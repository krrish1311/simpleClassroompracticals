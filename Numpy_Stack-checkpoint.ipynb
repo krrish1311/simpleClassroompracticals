{
 "cells": [
  {
   "cell_type": "code",
   "execution_count": 5,
   "id": "22788405",
   "metadata": {},
   "outputs": [],
   "source": [
    "# Let say we have two array\n",
    "import numpy \n",
    "a1 = numpy.array([[1,2],[3,4],[5,6]])"
   ]
  },
  {
   "cell_type": "code",
   "execution_count": 6,
   "id": "60117263",
   "metadata": {},
   "outputs": [
    {
     "data": {
      "text/plain": [
       "array([[1, 2],\n",
       "       [3, 4],\n",
       "       [5, 6]])"
      ]
     },
     "execution_count": 6,
     "metadata": {},
     "output_type": "execute_result"
    }
   ],
   "source": [
    "a1"
   ]
  },
  {
   "cell_type": "code",
   "execution_count": 7,
   "id": "399cf8e9",
   "metadata": {},
   "outputs": [],
   "source": [
    "b1 = numpy.array([[3,3],[4,4],[5,5]])"
   ]
  },
  {
   "cell_type": "code",
   "execution_count": 8,
   "id": "08e57eab",
   "metadata": {},
   "outputs": [
    {
     "data": {
      "text/plain": [
       "array([[3, 3],\n",
       "       [4, 4],\n",
       "       [5, 5]])"
      ]
     },
     "execution_count": 8,
     "metadata": {},
     "output_type": "execute_result"
    }
   ],
   "source": [
    "b1"
   ]
  },
  {
   "cell_type": "markdown",
   "id": "9eb2be08",
   "metadata": {},
   "source": [
    "### Now, if we want to add these two array vertically, We have to use Vertical Stack function of numpy"
   ]
  },
  {
   "cell_type": "code",
   "execution_count": 11,
   "id": "93db4ca8",
   "metadata": {},
   "outputs": [],
   "source": [
    "c_vertical = numpy.vstack((a1,b1))"
   ]
  },
  {
   "cell_type": "code",
   "execution_count": 12,
   "id": "2ca193f2",
   "metadata": {},
   "outputs": [
    {
     "data": {
      "text/plain": [
       "array([[1, 2],\n",
       "       [3, 4],\n",
       "       [5, 6],\n",
       "       [3, 3],\n",
       "       [4, 4],\n",
       "       [5, 5]])"
      ]
     },
     "execution_count": 12,
     "metadata": {},
     "output_type": "execute_result"
    }
   ],
   "source": [
    "c_vertical"
   ]
  },
  {
   "cell_type": "markdown",
   "id": "a9fe51bf",
   "metadata": {},
   "source": [
    "### Now, if we want to add array horizontally, we use horizontal stack function of numpy"
   ]
  },
  {
   "cell_type": "code",
   "execution_count": 15,
   "id": "d4d94db4",
   "metadata": {},
   "outputs": [],
   "source": [
    "c_horizontal = numpy.hstack((a1,b1))"
   ]
  },
  {
   "cell_type": "code",
   "execution_count": 16,
   "id": "ce7f1e57",
   "metadata": {},
   "outputs": [
    {
     "data": {
      "text/plain": [
       "array([[1, 2, 3, 3],\n",
       "       [3, 4, 4, 4],\n",
       "       [5, 6, 5, 5]])"
      ]
     },
     "execution_count": 16,
     "metadata": {},
     "output_type": "execute_result"
    }
   ],
   "source": [
    "c_horizontal"
   ]
  },
  {
   "cell_type": "code",
   "execution_count": null,
   "id": "86352d49",
   "metadata": {},
   "outputs": [],
   "source": []
  }
 ],
 "metadata": {
  "kernelspec": {
   "display_name": "Python 3",
   "language": "python",
   "name": "python3"
  },
  "language_info": {
   "codemirror_mode": {
    "name": "ipython",
    "version": 3
   },
   "file_extension": ".py",
   "mimetype": "text/x-python",
   "name": "python",
   "nbconvert_exporter": "python",
   "pygments_lexer": "ipython3",
   "version": "3.8.8"
  }
 },
 "nbformat": 4,
 "nbformat_minor": 5
}
